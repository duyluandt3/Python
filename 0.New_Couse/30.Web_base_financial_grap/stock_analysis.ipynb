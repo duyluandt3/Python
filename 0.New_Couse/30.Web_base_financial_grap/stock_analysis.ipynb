{
 "cells": [
  {
   "cell_type": "code",
   "execution_count": 59,
   "metadata": {},
   "outputs": [],
   "source": [
    "from pandas_datareader import data\n",
    "import datetime\n",
    "# Creat chart library\n",
    "from bokeh.plotting import figure, show, output_file\n",
    "from bokeh.embed import components\n",
    "from bokeh.resources import CDN\n",
    "\n",
    "start_time=datetime.datetime(2016,3,2)\n",
    "end_time=datetime.datetime(2016,3,30)\n",
    "\n",
    "# Get stock data\n",
    "df=data.DataReader(name=\"GOOG\", data_source=\"yahoo\", start=start_time, end=end_time)\n",
    "\n",
    "# Create data grap\n",
    "c_chart=figure(x_axis_type=\"datetime\", width=1500, height=400, sizing_mode=\"scale_width\")\n",
    "c_chart.title.text=\"Candlestick Chart\"\n",
    "c_chart.grid.grid_line_alpha=0.5\n",
    "\n",
    "# Check increase and drcrease status\n",
    "def inc_check(close_val, open_val):\n",
    "    if close_val>open_val:\n",
    "        value=\"Increase\"\n",
    "    elif close_val<open_val:\n",
    "        value=\"Decrease\"\n",
    "    else:\n",
    "        value=\"Equal\"\n",
    "    return value\n",
    "\n",
    "df[\"Status\"]=[inc_check(close_val, open_val) for close_val, open_val in zip(df.Close, df.Open)]\n",
    "\n",
    "# Check midle value\n",
    "df[\"Midle\"]=(df.Close+df.Open)/2\n",
    "\n",
    "# Check height value\n",
    "df[\"Height\"]=abs(df.Open-df.Close)\n",
    "\n",
    "# convert hours to miliseconds\n",
    "hours_12 = 12*60*60*1000\n",
    " \n",
    "# Specify data,get the center of the rectangle, width of the rectange, height of the rectangle\n",
    "c_chart.rect(df.index[df.Status==\"Increase\"], df.Midle[df.Status==\"Increase\"], hours_12, df.Height[df.Status==\"Increase\"], \n",
    "             fill_color=\"#CCFFFF\", line_color=\"black\")\n",
    "\n",
    "# Specify data,get the center of the rectangle, width of the rectange, height of the rectangle\n",
    "c_chart.rect(df.index[df.Status==\"Decrease\"], df.Midle[df.Status==\"Decrease\"], hours_12, df.Height[df.Status==\"Decrease\"], \n",
    "             fill_color=\"#FF3333\", line_color=\"black\")\n",
    "\n",
    "# Display high and low value\n",
    "c_chart.segment(df.index, df.High, df.index, df.Low, color=\"black\")\n",
    "\n",
    "#output_file(\"CS.html\")\n",
    "#show(c_chart)\n",
    "\n",
    "# Gen CSS and html file\n",
    "script1, div1=components(c_chart)\n",
    "\n",
    "cdn_js=CDN.js_files\n",
    "cdn_css=CDN.css_files\n"
   ]
  },
  {
   "cell_type": "code",
   "execution_count": 58,
   "metadata": {},
   "outputs": [
    {
     "data": {
      "text/plain": [
       "str"
      ]
     },
     "execution_count": 58,
     "metadata": {},
     "output_type": "execute_result"
    }
   ],
   "source": [
    "type(script1)"
   ]
  },
  {
   "cell_type": "code",
   "execution_count": 62,
   "metadata": {},
   "outputs": [
    {
     "data": {
      "text/plain": [
       "'https://cdn.bokeh.org/bokeh/release/bokeh-2.0.1.min.js'"
      ]
     },
     "execution_count": 62,
     "metadata": {},
     "output_type": "execute_result"
    }
   ],
   "source": [
    "cdn_js[0]\n"
   ]
  },
  {
   "cell_type": "code",
   "execution_count": 63,
   "metadata": {},
   "outputs": [
    {
     "data": {
      "text/plain": [
       "[]"
      ]
     },
     "execution_count": 63,
     "metadata": {},
     "output_type": "execute_result"
    }
   ],
   "source": [
    "cdn_css"
   ]
  },
  {
   "cell_type": "code",
   "execution_count": null,
   "metadata": {},
   "outputs": [],
   "source": []
  }
 ],
 "metadata": {
  "kernelspec": {
   "display_name": "Python 3",
   "language": "python",
   "name": "python3"
  },
  "language_info": {
   "codemirror_mode": {
    "name": "ipython",
    "version": 3
   },
   "file_extension": ".py",
   "mimetype": "text/x-python",
   "name": "python",
   "nbconvert_exporter": "python",
   "pygments_lexer": "ipython3",
   "version": "3.7.4"
  }
 },
 "nbformat": 4,
 "nbformat_minor": 2
}
