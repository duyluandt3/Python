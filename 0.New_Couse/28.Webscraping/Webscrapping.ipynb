{
 "cells": [
  {
   "cell_type": "code",
   "execution_count": 5,
   "metadata": {},
   "outputs": [
    {
     "name": "stdout",
     "output_type": "stream",
     "text": [
      "<!DOCTYPE html>\n",
      "<html>\n",
      " <head>\n",
      "  <style>\n",
      "   div.cities {\n",
      "    background-color:black;\n",
      "    color:white;\n",
      "    margin:20px;\n",
      "    padding:20px;\n",
      "}\n",
      "  </style>\n",
      " </head>\n",
      " <body>\n",
      "  <h1 align=\"center\">\n",
      "   Here are three big cities\n",
      "  </h1>\n",
      "  <div class=\"cities\">\n",
      "   <h2>\n",
      "    London\n",
      "   </h2>\n",
      "   <p>\n",
      "    London is the capital of England and it's been a British settlement since 2000 years ago.\n",
      "   </p>\n",
      "  </div>\n",
      "  <div class=\"cities\">\n",
      "   <h2>\n",
      "    Paris\n",
      "   </h2>\n",
      "   <p>\n",
      "    Paris is the capital city of France. It was declared capital since 508.\n",
      "   </p>\n",
      "  </div>\n",
      "  <div class=\"cities\">\n",
      "   <h2>\n",
      "    Tokyo\n",
      "   </h2>\n",
      "   <p>\n",
      "    Tokyo is the capital of Japan and one of the most populated cities in the world.\n",
      "   </p>\n",
      "  </div>\n",
      " </body>\n",
      "</html>\n"
     ]
    }
   ],
   "source": [
    "import requests\n",
    "from bs4 import BeautifulSoup\n",
    "\n",
    "# Get data from web\n",
    "r = requests.get(\"http://www.pyclass.com/example.html\", headers={'User-agent': 'Mozilla/5.0 (X11; Ubuntu; Linux x86_64; rv:61.0) Gecko/20100101 Firefox/61.0'})\n",
    "\n",
    "c=r.content\n",
    "#print(c)\n",
    "make_beauty=BeautifulSoup(c,\"html.parser\")\n",
    "print(make_beauty.prettify())"
   ]
  },
  {
   "cell_type": "code",
   "execution_count": null,
   "metadata": {},
   "outputs": [],
   "source": []
  }
 ],
 "metadata": {
  "kernelspec": {
   "display_name": "Python 3",
   "language": "python",
   "name": "python3"
  },
  "language_info": {
   "codemirror_mode": {
    "name": "ipython",
    "version": 3
   },
   "file_extension": ".py",
   "mimetype": "text/x-python",
   "name": "python",
   "nbconvert_exporter": "python",
   "pygments_lexer": "ipython3",
   "version": "3.7.4"
  }
 },
 "nbformat": 4,
 "nbformat_minor": 2
}
